{
 "cells": [
  {
   "cell_type": "code",
   "execution_count": 1,
   "id": "9a56aa8c",
   "metadata": {},
   "outputs": [],
   "source": [
    "#!pip install -r requirements.txt\n",
    "#!pip list"
   ]
  },
  {
   "cell_type": "code",
   "execution_count": 2,
   "id": "d1e28389",
   "metadata": {},
   "outputs": [],
   "source": [
    "import pandas as pd\n",
    "import numpy as np\n",
    "import matplotlib.pyplot as plt\n",
    "import seaborn as sns"
   ]
  },
  {
   "cell_type": "code",
   "execution_count": 3,
   "id": "5db28eec",
   "metadata": {},
   "outputs": [],
   "source": [
    "pd.set_option('display.float_format', '{:.2f}'.format)\n",
    "\n",
    "path_2022 = '../data/2022/'\n",
    "path = '../data/'"
   ]
  },
  {
   "cell_type": "code",
   "execution_count": 4,
   "id": "38907520",
   "metadata": {},
   "outputs": [],
   "source": [
    "df_02_svao = pd.read_csv(path_2022+'svao_2_febr.csv', sep=';')\n",
    "df_03_svao = pd.read_csv(path_2022+'svao_3_march.csv', sep=';')\n",
    "df_04_svao = pd.read_csv(path_2022+'svao_4_april.csv', sep=';')"
   ]
  },
  {
   "cell_type": "code",
   "execution_count": 5,
   "id": "a0ba6d4b",
   "metadata": {},
   "outputs": [],
   "source": [
    "# расчет суммы, среднего и стандартного отклонения по месяцам\n",
    "def sum_mean_std_month(df, month):\n",
    "    tt_mean_std = {}\n",
    "    \n",
    "    tt = df['id_tt_cl'].unique()\n",
    "    for el in tt:\n",
    "        el_sum = np.round(df[df['id_tt_cl'] == el]['BaseSum_correct'].resample('d').sum().sum(), 2)\n",
    "        el_mean = np.round(df[df['id_tt_cl'] == el]['BaseSum_correct'].resample('d').sum().mean(), 2)\n",
    "        el_std = np.round(df[df['id_tt_cl'] == el]['BaseSum_correct'].resample('d').sum().std(), 2)\n",
    "        tt_mean_std[el] = {f'{month}_sum':el_sum, \n",
    "                           f'{month}_mean':el_mean, \n",
    "                           f'{month}_std':el_std}\n",
    "    \n",
    "    return tt_mean_std"
   ]
  },
  {
   "cell_type": "markdown",
   "id": "44c6d17a",
   "metadata": {},
   "source": [
    "**Февраль 2022**"
   ]
  },
  {
   "cell_type": "code",
   "execution_count": 6,
   "id": "725c4dca",
   "metadata": {},
   "outputs": [],
   "source": [
    "df_02_svao['BaseSum_correct'] = df_02_svao['BaseSum'] * df_02_svao['znak']\n",
    "df_02_svao['Quantity_correct'] = df_02_svao['Quantity'] * df_02_svao['znak']\n",
    "df_02_svao['date_ch'] = pd.to_datetime(df_02_svao['date_ch'])\n",
    "df_02_svao = df_02_svao.set_index(pd.DatetimeIndex(df_02_svao['date_ch']))"
   ]
  },
  {
   "cell_type": "code",
   "execution_count": 7,
   "id": "24fcaf1a",
   "metadata": {},
   "outputs": [],
   "source": [
    "svod_02 = pd.DataFrame(sum_mean_std_month(df_02_svao, '2')).T"
   ]
  },
  {
   "cell_type": "markdown",
   "id": "c92a1cd9",
   "metadata": {},
   "source": [
    "**Март 2022**"
   ]
  },
  {
   "cell_type": "code",
   "execution_count": 8,
   "id": "ae12bd84",
   "metadata": {},
   "outputs": [],
   "source": [
    "df_03_svao['BaseSum_correct'] = df_03_svao['BaseSum'] * df_03_svao['znak']\n",
    "df_03_svao['Quantity_correct'] = df_03_svao['Quantity'] * df_03_svao['znak']\n",
    "df_03_svao['date_ch'] = pd.to_datetime(df_03_svao['date_ch'])\n",
    "df_03_svao = df_03_svao.set_index(pd.DatetimeIndex(df_03_svao['date_ch']))"
   ]
  },
  {
   "cell_type": "code",
   "execution_count": 9,
   "id": "1b5a6082",
   "metadata": {},
   "outputs": [],
   "source": [
    "svod_03 = pd.DataFrame(sum_mean_std_month(df_03_svao, '3')).T"
   ]
  },
  {
   "cell_type": "markdown",
   "id": "ee4b7cb1",
   "metadata": {},
   "source": [
    "**Апрель 2022**"
   ]
  },
  {
   "cell_type": "code",
   "execution_count": 10,
   "id": "27d5c5c4",
   "metadata": {},
   "outputs": [],
   "source": [
    "df_04_svao['BaseSum_correct'] = df_04_svao['BaseSum'] * df_04_svao['znak']\n",
    "df_04_svao['Quantity_correct'] = df_04_svao['Quantity'] * df_04_svao['znak']\n",
    "df_04_svao['date_ch'] = pd.to_datetime(df_04_svao['date_ch'])\n",
    "df_04_svao = df_04_svao.set_index(pd.DatetimeIndex(df_04_svao['date_ch']))"
   ]
  },
  {
   "cell_type": "code",
   "execution_count": 11,
   "id": "97fc8f3c",
   "metadata": {},
   "outputs": [],
   "source": [
    "svod_04 = pd.DataFrame(sum_mean_std_month(df_04_svao, '4')).T"
   ]
  },
  {
   "cell_type": "code",
   "execution_count": 12,
   "id": "e2f13265",
   "metadata": {},
   "outputs": [],
   "source": [
    "svod_234 = pd.concat([svod_02, svod_03, svod_04],axis=1)"
   ]
  },
  {
   "cell_type": "code",
   "execution_count": 13,
   "id": "0ec1352c",
   "metadata": {},
   "outputs": [
    {
     "data": {
      "text/html": [
       "<div>\n",
       "<style scoped>\n",
       "    .dataframe tbody tr th:only-of-type {\n",
       "        vertical-align: middle;\n",
       "    }\n",
       "\n",
       "    .dataframe tbody tr th {\n",
       "        vertical-align: top;\n",
       "    }\n",
       "\n",
       "    .dataframe thead th {\n",
       "        text-align: right;\n",
       "    }\n",
       "</style>\n",
       "<table border=\"1\" class=\"dataframe\">\n",
       "  <thead>\n",
       "    <tr style=\"text-align: right;\">\n",
       "      <th></th>\n",
       "      <th>2_sum</th>\n",
       "      <th>2_mean</th>\n",
       "      <th>2_std</th>\n",
       "      <th>3_sum</th>\n",
       "      <th>3_mean</th>\n",
       "      <th>3_std</th>\n",
       "      <th>4_sum</th>\n",
       "      <th>4_mean</th>\n",
       "      <th>4_std</th>\n",
       "    </tr>\n",
       "  </thead>\n",
       "  <tbody>\n",
       "    <tr>\n",
       "      <th>13779</th>\n",
       "      <td>3582256.96</td>\n",
       "      <td>127937.75</td>\n",
       "      <td>10970.25</td>\n",
       "      <td>3898083.46</td>\n",
       "      <td>125744.63</td>\n",
       "      <td>11703.57</td>\n",
       "      <td>3711991.05</td>\n",
       "      <td>123733.03</td>\n",
       "      <td>11524.47</td>\n",
       "    </tr>\n",
       "    <tr>\n",
       "      <th>14853</th>\n",
       "      <td>4563454.09</td>\n",
       "      <td>162980.50</td>\n",
       "      <td>10742.71</td>\n",
       "      <td>4977050.95</td>\n",
       "      <td>160550.03</td>\n",
       "      <td>13222.60</td>\n",
       "      <td>5077665.78</td>\n",
       "      <td>169255.53</td>\n",
       "      <td>11178.69</td>\n",
       "    </tr>\n",
       "    <tr>\n",
       "      <th>12611</th>\n",
       "      <td>5467477.89</td>\n",
       "      <td>195267.07</td>\n",
       "      <td>19525.71</td>\n",
       "      <td>5583399.82</td>\n",
       "      <td>180109.67</td>\n",
       "      <td>13618.44</td>\n",
       "      <td>5750977.96</td>\n",
       "      <td>191699.27</td>\n",
       "      <td>21040.20</td>\n",
       "    </tr>\n",
       "    <tr>\n",
       "      <th>15372</th>\n",
       "      <td>4989015.99</td>\n",
       "      <td>178179.14</td>\n",
       "      <td>12798.88</td>\n",
       "      <td>5502086.18</td>\n",
       "      <td>177486.65</td>\n",
       "      <td>13384.01</td>\n",
       "      <td>5579710.16</td>\n",
       "      <td>185990.34</td>\n",
       "      <td>15848.28</td>\n",
       "    </tr>\n",
       "    <tr>\n",
       "      <th>11732</th>\n",
       "      <td>10346821.78</td>\n",
       "      <td>369529.35</td>\n",
       "      <td>26517.23</td>\n",
       "      <td>11387195.73</td>\n",
       "      <td>367328.89</td>\n",
       "      <td>26432.45</td>\n",
       "      <td>10931398.08</td>\n",
       "      <td>364379.94</td>\n",
       "      <td>28276.35</td>\n",
       "    </tr>\n",
       "    <tr>\n",
       "      <th>...</th>\n",
       "      <td>...</td>\n",
       "      <td>...</td>\n",
       "      <td>...</td>\n",
       "      <td>...</td>\n",
       "      <td>...</td>\n",
       "      <td>...</td>\n",
       "      <td>...</td>\n",
       "      <td>...</td>\n",
       "      <td>...</td>\n",
       "    </tr>\n",
       "    <tr>\n",
       "      <th>12181</th>\n",
       "      <td>6023002.98</td>\n",
       "      <td>215107.25</td>\n",
       "      <td>24140.51</td>\n",
       "      <td>6502775.44</td>\n",
       "      <td>209766.95</td>\n",
       "      <td>14992.36</td>\n",
       "      <td>6737986.57</td>\n",
       "      <td>224599.55</td>\n",
       "      <td>24968.25</td>\n",
       "    </tr>\n",
       "    <tr>\n",
       "      <th>12414</th>\n",
       "      <td>6194483.36</td>\n",
       "      <td>221231.55</td>\n",
       "      <td>18950.90</td>\n",
       "      <td>6386841.60</td>\n",
       "      <td>206027.15</td>\n",
       "      <td>18582.81</td>\n",
       "      <td>6405605.85</td>\n",
       "      <td>213520.20</td>\n",
       "      <td>18866.17</td>\n",
       "    </tr>\n",
       "    <tr>\n",
       "      <th>12689</th>\n",
       "      <td>4066063.89</td>\n",
       "      <td>145216.57</td>\n",
       "      <td>10592.62</td>\n",
       "      <td>4366481.32</td>\n",
       "      <td>140854.24</td>\n",
       "      <td>11555.95</td>\n",
       "      <td>4250012.46</td>\n",
       "      <td>141667.08</td>\n",
       "      <td>12601.78</td>\n",
       "    </tr>\n",
       "    <tr>\n",
       "      <th>11312</th>\n",
       "      <td>4109386.09</td>\n",
       "      <td>146763.79</td>\n",
       "      <td>12998.21</td>\n",
       "      <td>4505222.76</td>\n",
       "      <td>145329.77</td>\n",
       "      <td>15126.01</td>\n",
       "      <td>4437695.68</td>\n",
       "      <td>147923.19</td>\n",
       "      <td>16885.65</td>\n",
       "    </tr>\n",
       "    <tr>\n",
       "      <th>11357</th>\n",
       "      <td>9471479.58</td>\n",
       "      <td>338267.13</td>\n",
       "      <td>18751.57</td>\n",
       "      <td>10228615.53</td>\n",
       "      <td>329955.34</td>\n",
       "      <td>20749.25</td>\n",
       "      <td>10247240.81</td>\n",
       "      <td>341574.69</td>\n",
       "      <td>24182.39</td>\n",
       "    </tr>\n",
       "  </tbody>\n",
       "</table>\n",
       "<p>75 rows × 9 columns</p>\n",
       "</div>"
      ],
      "text/plain": [
       "            2_sum    2_mean    2_std       3_sum    3_mean    3_std  \\\n",
       "13779  3582256.96 127937.75 10970.25  3898083.46 125744.63 11703.57   \n",
       "14853  4563454.09 162980.50 10742.71  4977050.95 160550.03 13222.60   \n",
       "12611  5467477.89 195267.07 19525.71  5583399.82 180109.67 13618.44   \n",
       "15372  4989015.99 178179.14 12798.88  5502086.18 177486.65 13384.01   \n",
       "11732 10346821.78 369529.35 26517.23 11387195.73 367328.89 26432.45   \n",
       "...           ...       ...      ...         ...       ...      ...   \n",
       "12181  6023002.98 215107.25 24140.51  6502775.44 209766.95 14992.36   \n",
       "12414  6194483.36 221231.55 18950.90  6386841.60 206027.15 18582.81   \n",
       "12689  4066063.89 145216.57 10592.62  4366481.32 140854.24 11555.95   \n",
       "11312  4109386.09 146763.79 12998.21  4505222.76 145329.77 15126.01   \n",
       "11357  9471479.58 338267.13 18751.57 10228615.53 329955.34 20749.25   \n",
       "\n",
       "            4_sum    4_mean    4_std  \n",
       "13779  3711991.05 123733.03 11524.47  \n",
       "14853  5077665.78 169255.53 11178.69  \n",
       "12611  5750977.96 191699.27 21040.20  \n",
       "15372  5579710.16 185990.34 15848.28  \n",
       "11732 10931398.08 364379.94 28276.35  \n",
       "...           ...       ...      ...  \n",
       "12181  6737986.57 224599.55 24968.25  \n",
       "12414  6405605.85 213520.20 18866.17  \n",
       "12689  4250012.46 141667.08 12601.78  \n",
       "11312  4437695.68 147923.19 16885.65  \n",
       "11357 10247240.81 341574.69 24182.39  \n",
       "\n",
       "[75 rows x 9 columns]"
      ]
     },
     "execution_count": 13,
     "metadata": {},
     "output_type": "execute_result"
    }
   ],
   "source": [
    "svod_234"
   ]
  },
  {
   "cell_type": "code",
   "execution_count": 14,
   "id": "2b90c01d",
   "metadata": {},
   "outputs": [],
   "source": [
    "svod_234.to_csv(path_2022+'svod_234.csv', sep=';')"
   ]
  },
  {
   "cell_type": "code",
   "execution_count": null,
   "id": "ff674507",
   "metadata": {},
   "outputs": [],
   "source": []
  },
  {
   "cell_type": "code",
   "execution_count": null,
   "id": "4288a3c1",
   "metadata": {},
   "outputs": [],
   "source": []
  },
  {
   "cell_type": "code",
   "execution_count": null,
   "id": "6a531123",
   "metadata": {},
   "outputs": [],
   "source": []
  }
 ],
 "metadata": {
  "kernelspec": {
   "display_name": "Python 3 (ipykernel)",
   "language": "python",
   "name": "python3"
  },
  "language_info": {
   "codemirror_mode": {
    "name": "ipython",
    "version": 3
   },
   "file_extension": ".py",
   "mimetype": "text/x-python",
   "name": "python",
   "nbconvert_exporter": "python",
   "pygments_lexer": "ipython3",
   "version": "3.9.12"
  }
 },
 "nbformat": 4,
 "nbformat_minor": 5
}
