{
 "cells": [
  {
   "cell_type": "code",
   "execution_count": 48,
   "id": "90b739ae",
   "metadata": {},
   "outputs": [],
   "source": [
    "import pandas as pd"
   ]
  },
  {
   "cell_type": "code",
   "execution_count": 49,
   "id": "9ac57f88",
   "metadata": {},
   "outputs": [],
   "source": [
    "path_data = '../data/'"
   ]
  },
  {
   "cell_type": "code",
   "execution_count": 50,
   "id": "e24d91c1",
   "metadata": {},
   "outputs": [],
   "source": [
    "# загружаем датасеты\n",
    "# df_febr = pd.read_csv(path_data + '2_febr.csv', sep=';')\n",
    "# df_march = pd.read_csv(path_data + '2_march.csv', sep=';')\n",
    "df_apr = pd.read_csv(path_data + '2_april.csv', sep=';')\n",
    "df_may = pd.read_csv(path_data + '2_may.csv', sep=';')\n",
    "\n",
    "df_ostatki = pd.read_csv(path_data + '2_ost.csv', sep=';')"
   ]
  },
  {
   "cell_type": "code",
   "execution_count": 51,
   "id": "db16ea8e",
   "metadata": {},
   "outputs": [],
   "source": [
    "# Список id товаров, которые на остатке\n",
    "id_tov = list(set(df_ostatki['id_tov'].to_list()))"
   ]
  },
  {
   "cell_type": "code",
   "execution_count": 52,
   "id": "d09592fe",
   "metadata": {},
   "outputs": [],
   "source": [
    "# Создадим справочник товаров\n",
    "\n",
    "tovar_dict = {}\n",
    "\n",
    "def tovar(id_tov):\n",
    "    df = df_ostatki[df_ostatki['id_tov'] == id_tov]\n",
    "    name = df['name_tov'].iloc[0]\n",
    "    cat = df['name_gr'].iloc[0]\n",
    "    podcat = df['name_gr2'].iloc[0]\n",
    "    return name, cat, podcat\n",
    "\n",
    "for id_t in id_tov:\n",
    "    tovar_dict[id_t] = tovar(id_t)\n",
    "\n",
    "        "
   ]
  },
  {
   "cell_type": "code",
   "execution_count": 6,
   "id": "cead2598",
   "metadata": {},
   "outputs": [],
   "source": [
    "# df_febr['name_tov'] = df_febr['id_tov_cl'].apply(lambda x: tovar_dict[x][0] if x in tovar_dict.keys() else None)\n",
    "# df_febr['name_gr'] = df_febr['id_tov_cl'].apply(lambda x: tovar_dict[x][1] if x in tovar_dict.keys() else None)\n",
    "# df_febr['name_gr2'] = df_febr['id_tov_cl'].apply(lambda x: tovar_dict[x][2] if x in tovar_dict.keys() else None)"
   ]
  },
  {
   "cell_type": "code",
   "execution_count": 7,
   "id": "95965159",
   "metadata": {},
   "outputs": [],
   "source": [
    "# df_march['name_tov'] = df_march['id_tov_cl'].apply(lambda x: tovar_dict[x][0] if x in tovar_dict.keys() else None)\n",
    "# df_march['name_gr'] = df_march['id_tov_cl'].apply(lambda x: tovar_dict[x][1] if x in tovar_dict.keys() else None)\n",
    "# df_march['name_gr2'] = df_march['id_tov_cl'].apply(lambda x: tovar_dict[x][2] if x in tovar_dict.keys() else None)"
   ]
  },
  {
   "cell_type": "code",
   "execution_count": 53,
   "id": "eada9073",
   "metadata": {},
   "outputs": [],
   "source": [
    "df_apr['name_tov'] = df_apr['id_tov_cl'].apply(lambda x: tovar_dict[x][0] if x in tovar_dict.keys() else None)\n",
    "df_apr['name_gr'] = df_apr['id_tov_cl'].apply(lambda x: tovar_dict[x][1] if x in tovar_dict.keys() else None)\n",
    "df_apr['name_gr2'] = df_apr['id_tov_cl'].apply(lambda x: tovar_dict[x][2] if x in tovar_dict.keys() else None)"
   ]
  },
  {
   "cell_type": "code",
   "execution_count": 54,
   "id": "3b5fd283",
   "metadata": {},
   "outputs": [],
   "source": [
    "df_may['name_tov'] = df_may['id_tov_cl'].apply(lambda x: tovar_dict[x][0] if x in tovar_dict.keys() else None)\n",
    "df_may['name_gr'] = df_may['id_tov_cl'].apply(lambda x: tovar_dict[x][1] if x in tovar_dict.keys() else None)\n",
    "df_may['name_gr2'] = df_may['id_tov_cl'].apply(lambda x: tovar_dict[x][2] if x in tovar_dict.keys() else None)"
   ]
  },
  {
   "cell_type": "code",
   "execution_count": 10,
   "id": "f19ce507",
   "metadata": {},
   "outputs": [
    {
     "data": {
      "text/plain": [
       "CheckUID            0\n",
       "id_tt_cl            0\n",
       "id_tov_cl           0\n",
       "Price_retail        5\n",
       "Quantity            0\n",
       "BasePrice           0\n",
       "BaseSum             0\n",
       "date_ch             0\n",
       "time_ch             0\n",
       "order_type          0\n",
       "name_tov        78509\n",
       "name_gr         78509\n",
       "name_gr2        78509\n",
       "dtype: int64"
      ]
     },
     "execution_count": 10,
     "metadata": {},
     "output_type": "execute_result"
    }
   ],
   "source": [
    "df_febr.isna().sum()"
   ]
  },
  {
   "cell_type": "code",
   "execution_count": 11,
   "id": "361de873",
   "metadata": {},
   "outputs": [
    {
     "data": {
      "text/plain": [
       "CheckUID            0\n",
       "id_tt_cl            0\n",
       "id_tov_cl           0\n",
       "Price_retail       39\n",
       "Quantity            0\n",
       "BasePrice           0\n",
       "BaseSum             0\n",
       "date_ch             0\n",
       "time_ch             0\n",
       "order_type          0\n",
       "name_tov        17547\n",
       "name_gr         17547\n",
       "name_gr2        17547\n",
       "dtype: int64"
      ]
     },
     "execution_count": 11,
     "metadata": {},
     "output_type": "execute_result"
    }
   ],
   "source": [
    "df_march.isna().sum()"
   ]
  },
  {
   "cell_type": "code",
   "execution_count": 56,
   "id": "f43991f1",
   "metadata": {},
   "outputs": [
    {
     "data": {
      "text/plain": [
       "CheckUID        0\n",
       "id_tt_cl        0\n",
       "id_tov_cl       0\n",
       "Price_retail    2\n",
       "Quantity        0\n",
       "BasePrice       0\n",
       "BaseSum         0\n",
       "date_ch         0\n",
       "time_ch         0\n",
       "order_type      0\n",
       "name_tov        0\n",
       "name_gr         0\n",
       "name_gr2        0\n",
       "dtype: int64"
      ]
     },
     "execution_count": 56,
     "metadata": {},
     "output_type": "execute_result"
    }
   ],
   "source": [
    "df_apr.isna().sum()"
   ]
  },
  {
   "cell_type": "code",
   "execution_count": 59,
   "id": "c150cec0",
   "metadata": {},
   "outputs": [],
   "source": [
    "# df_febr.to_csv(path_data + 'Февраль_с_назв_тов.csv', index=False, sep=';')\n",
    "# df_march.to_csv(path_data + 'Март_с_назв_тов.csv', index=False, sep=';')\n",
    "df_apr.to_csv(path_data + 'Апрель_с_назв_тов.csv', index=False, sep=';')\n",
    "df_may.to_csv(path_data + 'Май_с_назв_тов.csv', index=False, sep=';')"
   ]
  },
  {
   "cell_type": "markdown",
   "id": "4f40ed5d",
   "metadata": {},
   "source": [
    "**Частично недостающие позиции заполним спарсив данные с сайта**"
   ]
  },
  {
   "cell_type": "code",
   "execution_count": 16,
   "id": "d16f54a0",
   "metadata": {},
   "outputs": [],
   "source": [
    "feb = df_febr[df_febr['name_tov'].isna()]['id_tov_cl'].to_list()"
   ]
  },
  {
   "cell_type": "code",
   "execution_count": 17,
   "id": "00cc1764",
   "metadata": {},
   "outputs": [],
   "source": [
    "march = df_march[df_march['name_tov'].isna()]['id_tov_cl'].to_list()"
   ]
  },
  {
   "cell_type": "code",
   "execution_count": 18,
   "id": "151936c9",
   "metadata": {},
   "outputs": [],
   "source": [
    "net_name_tov = list(set(feb+march))"
   ]
  },
  {
   "cell_type": "code",
   "execution_count": 19,
   "id": "a3caf541",
   "metadata": {},
   "outputs": [
    {
     "data": {
      "text/plain": [
       "661"
      ]
     },
     "execution_count": 19,
     "metadata": {},
     "output_type": "execute_result"
    }
   ],
   "source": [
    "len(net_name_tov)"
   ]
  },
  {
   "cell_type": "code",
   "execution_count": 22,
   "id": "e839c2b6",
   "metadata": {},
   "outputs": [],
   "source": [
    "pd.Series(net_name_tov).to_csv(path_data + 'арт_тов_для_парсинга.csv', index=False, sep=';')"
   ]
  },
  {
   "cell_type": "code",
   "execution_count": 33,
   "id": "685e778e",
   "metadata": {},
   "outputs": [],
   "source": [
    "tov = pd.read_csv(path_data+'товар_с_парсера.csv')"
   ]
  },
  {
   "cell_type": "code",
   "execution_count": 34,
   "id": "c381945c",
   "metadata": {},
   "outputs": [
    {
     "data": {
      "text/html": [
       "<div>\n",
       "<style scoped>\n",
       "    .dataframe tbody tr th:only-of-type {\n",
       "        vertical-align: middle;\n",
       "    }\n",
       "\n",
       "    .dataframe tbody tr th {\n",
       "        vertical-align: top;\n",
       "    }\n",
       "\n",
       "    .dataframe thead th {\n",
       "        text-align: right;\n",
       "    }\n",
       "</style>\n",
       "<table border=\"1\" class=\"dataframe\">\n",
       "  <thead>\n",
       "    <tr style=\"text-align: right;\">\n",
       "      <th></th>\n",
       "      <th>id_tov</th>\n",
       "      <th>name</th>\n",
       "      <th>rating</th>\n",
       "      <th>catalog</th>\n",
       "      <th>name_gr</th>\n",
       "      <th>name_gr2</th>\n",
       "    </tr>\n",
       "  </thead>\n",
       "  <tbody>\n",
       "    <tr>\n",
       "      <th>0</th>\n",
       "      <td>36873</td>\n",
       "      <td>Смесь для выпечки «Овсяное печенье»</td>\n",
       "      <td>4.8</td>\n",
       "      <td>Веганское, растительное, постное / Сладости /...</td>\n",
       "      <td>Веганское, растительное, постное</td>\n",
       "      <td>Сладости</td>\n",
       "    </tr>\n",
       "    <tr>\n",
       "      <th>1</th>\n",
       "      <td>51208</td>\n",
       "      <td>Вода питьевая детская Черноголовка Бэйби Оранж...</td>\n",
       "      <td>5.0</td>\n",
       "      <td>Детское питание, гигиена и развитие / Детские...</td>\n",
       "      <td>Детское питание, гигиена и развитие</td>\n",
       "      <td>Детские соки, вода и напитки</td>\n",
       "    </tr>\n",
       "    <tr>\n",
       "      <th>2</th>\n",
       "      <td>53267</td>\n",
       "      <td>Раскраска «Для малышей» с глазками, ВП</td>\n",
       "      <td>0.0</td>\n",
       "      <td>Детское питание, гигиена и развитие / Детское...</td>\n",
       "      <td>Детское питание, гигиена и развитие</td>\n",
       "      <td>Детское развитие, творчество и игры</td>\n",
       "    </tr>\n",
       "    <tr>\n",
       "      <th>3</th>\n",
       "      <td>53278</td>\n",
       "      <td>Игра магнитная развивающая «Зоопарк», ВП</td>\n",
       "      <td>4.7</td>\n",
       "      <td>Детское питание, гигиена и развитие / Детское...</td>\n",
       "      <td>Детское питание, гигиена и развитие</td>\n",
       "      <td>Детское развитие, творчество и игры</td>\n",
       "    </tr>\n",
       "    <tr>\n",
       "      <th>4</th>\n",
       "      <td>24612</td>\n",
       "      <td>Миндаль (ядро) жареный, ВЕС</td>\n",
       "      <td>4.9</td>\n",
       "      <td>Веганское, растительное, постное / Растительн...</td>\n",
       "      <td>Веганское, растительное, постное</td>\n",
       "      <td>Растительный белок</td>\n",
       "    </tr>\n",
       "    <tr>\n",
       "      <th>...</th>\n",
       "      <td>...</td>\n",
       "      <td>...</td>\n",
       "      <td>...</td>\n",
       "      <td>...</td>\n",
       "      <td>...</td>\n",
       "      <td>...</td>\n",
       "    </tr>\n",
       "    <tr>\n",
       "      <th>132</th>\n",
       "      <td>40848</td>\n",
       "      <td>Малина, 250 г</td>\n",
       "      <td>4.5</td>\n",
       "      <td>Овощи, фрукты, ягоды, зелень / Ягоды / Малина...</td>\n",
       "      <td>Овощи, фрукты, ягоды, зелень</td>\n",
       "      <td>Ягоды</td>\n",
       "    </tr>\n",
       "    <tr>\n",
       "      <th>133</th>\n",
       "      <td>20381</td>\n",
       "      <td>Соль для ванны детская с чередой 450 г</td>\n",
       "      <td>4.9</td>\n",
       "      <td>Косметика, средства гигиены / Для детей / Сол...</td>\n",
       "      <td>Косметика, средства гигиены</td>\n",
       "      <td>Для детей</td>\n",
       "    </tr>\n",
       "    <tr>\n",
       "      <th>134</th>\n",
       "      <td>34722</td>\n",
       "      <td>Маска многоразовая 2-х слойная</td>\n",
       "      <td>4.5</td>\n",
       "      <td>Здоровье / Средства защиты / Маска многоразов...</td>\n",
       "      <td>Здоровье</td>\n",
       "      <td>Средства защиты</td>\n",
       "    </tr>\n",
       "    <tr>\n",
       "      <th>135</th>\n",
       "      <td>55219</td>\n",
       "      <td>Варенье из апельсинов с лимоном и имбирем</td>\n",
       "      <td>4.8</td>\n",
       "      <td>Консервация / Варенья и джемы / Варенье из ап...</td>\n",
       "      <td>Консервация</td>\n",
       "      <td>Варенья и джемы</td>\n",
       "    </tr>\n",
       "    <tr>\n",
       "      <th>136</th>\n",
       "      <td>30719</td>\n",
       "      <td>Пюре Индейка с овощами</td>\n",
       "      <td>4.7</td>\n",
       "      <td>Детское питание, гигиена и развитие / Детское...</td>\n",
       "      <td>Детское питание, гигиена и развитие</td>\n",
       "      <td>Детское пюре</td>\n",
       "    </tr>\n",
       "  </tbody>\n",
       "</table>\n",
       "<p>137 rows × 6 columns</p>\n",
       "</div>"
      ],
      "text/plain": [
       "     id_tov                                               name  rating  \\\n",
       "0     36873                Смесь для выпечки «Овсяное печенье»     4.8   \n",
       "1     51208  Вода питьевая детская Черноголовка Бэйби Оранж...     5.0   \n",
       "2     53267             Раскраска «Для малышей» с глазками, ВП     0.0   \n",
       "3     53278           Игра магнитная развивающая «Зоопарк», ВП     4.7   \n",
       "4     24612                        Миндаль (ядро) жареный, ВЕС     4.9   \n",
       "..      ...                                                ...     ...   \n",
       "132   40848                                      Малина, 250 г     4.5   \n",
       "133   20381             Соль для ванны детская с чередой 450 г     4.9   \n",
       "134   34722                     Маска многоразовая 2-х слойная     4.5   \n",
       "135   55219          Варенье из апельсинов с лимоном и имбирем     4.8   \n",
       "136   30719                             Пюре Индейка с овощами     4.7   \n",
       "\n",
       "                                               catalog  \\\n",
       "0     Веганское, растительное, постное / Сладости /...   \n",
       "1     Детское питание, гигиена и развитие / Детские...   \n",
       "2     Детское питание, гигиена и развитие / Детское...   \n",
       "3     Детское питание, гигиена и развитие / Детское...   \n",
       "4     Веганское, растительное, постное / Растительн...   \n",
       "..                                                 ...   \n",
       "132   Овощи, фрукты, ягоды, зелень / Ягоды / Малина...   \n",
       "133   Косметика, средства гигиены / Для детей / Сол...   \n",
       "134   Здоровье / Средства защиты / Маска многоразов...   \n",
       "135   Консервация / Варенья и джемы / Варенье из ап...   \n",
       "136   Детское питание, гигиена и развитие / Детское...   \n",
       "\n",
       "                                  name_gr  \\\n",
       "0        Веганское, растительное, постное   \n",
       "1     Детское питание, гигиена и развитие   \n",
       "2     Детское питание, гигиена и развитие   \n",
       "3     Детское питание, гигиена и развитие   \n",
       "4        Веганское, растительное, постное   \n",
       "..                                    ...   \n",
       "132          Овощи, фрукты, ягоды, зелень   \n",
       "133           Косметика, средства гигиены   \n",
       "134                              Здоровье   \n",
       "135                           Консервация   \n",
       "136   Детское питание, гигиена и развитие   \n",
       "\n",
       "                                  name_gr2  \n",
       "0                                Сладости   \n",
       "1            Детские соки, вода и напитки   \n",
       "2     Детское развитие, творчество и игры   \n",
       "3     Детское развитие, творчество и игры   \n",
       "4                      Растительный белок   \n",
       "..                                     ...  \n",
       "132                                 Ягоды   \n",
       "133                             Для детей   \n",
       "134                       Средства защиты   \n",
       "135                       Варенья и джемы   \n",
       "136                          Детское пюре   \n",
       "\n",
       "[137 rows x 6 columns]"
      ]
     },
     "execution_count": 34,
     "metadata": {},
     "output_type": "execute_result"
    }
   ],
   "source": [
    "tov"
   ]
  },
  {
   "cell_type": "code",
   "execution_count": 38,
   "id": "7ac467ca",
   "metadata": {},
   "outputs": [],
   "source": [
    "# Создадим справочник товаров\n",
    "id_tov = tov['id_tov'].to_list()\n",
    "\n",
    "def tovar(id_tov):\n",
    "    df = tov[tov['id_tov'] == id_tov]\n",
    "    name = df['name'].iloc[0]\n",
    "    cat = df['name_gr'].iloc[0]\n",
    "    podcat = df['name_gr2'].iloc[0]\n",
    "    return name, cat, podcat\n",
    "\n",
    "for id_t in id_tov:\n",
    "    tovar_dict[id_t] = tovar(id_t)\n",
    "\n",
    "        "
   ]
  },
  {
   "cell_type": "code",
   "execution_count": 40,
   "id": "03f7bb6c",
   "metadata": {},
   "outputs": [
    {
     "data": {
      "text/plain": [
       "6782"
      ]
     },
     "execution_count": 40,
     "metadata": {},
     "output_type": "execute_result"
    }
   ],
   "source": [
    "len(tovar_dict)"
   ]
  },
  {
   "cell_type": "code",
   "execution_count": 41,
   "id": "d4021edf",
   "metadata": {},
   "outputs": [],
   "source": [
    "df_febr['name_tov'] = df_febr['id_tov_cl'].apply(lambda x: tovar_dict[x][0] if x in tovar_dict.keys() else None)\n",
    "df_febr['name_gr'] = df_febr['id_tov_cl'].apply(lambda x: tovar_dict[x][1] if x in tovar_dict.keys() else None)\n",
    "df_febr['name_gr2'] = df_febr['id_tov_cl'].apply(lambda x: tovar_dict[x][2] if x in tovar_dict.keys() else None)"
   ]
  },
  {
   "cell_type": "code",
   "execution_count": 42,
   "id": "8ddb7793",
   "metadata": {},
   "outputs": [
    {
     "data": {
      "text/plain": [
       "CheckUID            0\n",
       "id_tt_cl            0\n",
       "id_tov_cl           0\n",
       "Price_retail        5\n",
       "Quantity            0\n",
       "BasePrice           0\n",
       "BaseSum             0\n",
       "date_ch             0\n",
       "time_ch             0\n",
       "order_type          0\n",
       "name_tov        62452\n",
       "name_gr         62458\n",
       "name_gr2        62458\n",
       "dtype: int64"
      ]
     },
     "execution_count": 42,
     "metadata": {},
     "output_type": "execute_result"
    }
   ],
   "source": [
    "df_febr.isna().sum()"
   ]
  },
  {
   "cell_type": "code",
   "execution_count": 45,
   "id": "829827d0",
   "metadata": {},
   "outputs": [
    {
     "data": {
      "text/plain": [
       "Молочная Продукция                798916\n",
       "Овощи. Фрукты. Грибы. Зелень      704507\n",
       "Кулинария                         533611\n",
       "Хлеб                              377278\n",
       "Сладости, кондитерские изделия    329037\n",
       "                                   ...  \n",
       "Пекарня                                3\n",
       "ФС Общепит                             2\n",
       "Интернет-магазин                       2\n",
       "Рационы                                1\n",
       " Подарки и сувениры                    1\n",
       "Name: name_gr, Length: 69, dtype: int64"
      ]
     },
     "execution_count": 45,
     "metadata": {},
     "output_type": "execute_result"
    }
   ],
   "source": [
    "df_febr.name_gr.value_counts()"
   ]
  },
  {
   "cell_type": "code",
   "execution_count": 43,
   "id": "04f348c3",
   "metadata": {},
   "outputs": [],
   "source": [
    "df_march['name_tov'] = df_march['id_tov_cl'].apply(lambda x: tovar_dict[x][0] if x in tovar_dict.keys() else None)\n",
    "df_march['name_gr'] = df_march['id_tov_cl'].apply(lambda x: tovar_dict[x][1] if x in tovar_dict.keys() else None)\n",
    "df_march['name_gr2'] = df_march['id_tov_cl'].apply(lambda x: tovar_dict[x][2] if x in tovar_dict.keys() else None)"
   ]
  },
  {
   "cell_type": "code",
   "execution_count": 44,
   "id": "0b664807",
   "metadata": {},
   "outputs": [
    {
     "data": {
      "text/plain": [
       "CheckUID            0\n",
       "id_tt_cl            0\n",
       "id_tov_cl           0\n",
       "Price_retail       39\n",
       "Quantity            0\n",
       "BasePrice           0\n",
       "BaseSum             0\n",
       "date_ch             0\n",
       "time_ch             0\n",
       "order_type          0\n",
       "name_tov        14164\n",
       "name_gr         14166\n",
       "name_gr2        14166\n",
       "dtype: int64"
      ]
     },
     "execution_count": 44,
     "metadata": {},
     "output_type": "execute_result"
    }
   ],
   "source": [
    "df_march.isna().sum()"
   ]
  },
  {
   "cell_type": "code",
   "execution_count": 46,
   "id": "9a4b7107",
   "metadata": {},
   "outputs": [
    {
     "data": {
      "text/plain": [
       "Молочная Продукция                901217\n",
       "Овощи. Фрукты. Грибы. Зелень      733785\n",
       "Кулинария                         649641\n",
       "Хлеб                              421830\n",
       "Сладости, кондитерские изделия    386742\n",
       "                                   ...  \n",
       " Напитки                               2\n",
       "Довериум                               1\n",
       " Товары для дома и кухни               1\n",
       " Здоровье                              1\n",
       "Мясная Витрина ВВ                      1\n",
       "Name: name_gr, Length: 69, dtype: int64"
      ]
     },
     "execution_count": 46,
     "metadata": {},
     "output_type": "execute_result"
    }
   ],
   "source": [
    "df_march.name_gr.value_counts()"
   ]
  },
  {
   "cell_type": "code",
   "execution_count": 47,
   "id": "f3599df3",
   "metadata": {},
   "outputs": [],
   "source": [
    "df_febr.to_csv(path_data + 'Февраль_с_назв_тов.csv', index=False, sep=';')\n",
    "df_march.to_csv(path_data + 'Март_с_назв_тов.csv', index=False, sep=';')"
   ]
  },
  {
   "cell_type": "code",
   "execution_count": null,
   "id": "c5928d11",
   "metadata": {},
   "outputs": [],
   "source": []
  }
 ],
 "metadata": {
  "kernelspec": {
   "display_name": "Python 3 (ipykernel)",
   "language": "python",
   "name": "python3"
  },
  "language_info": {
   "codemirror_mode": {
    "name": "ipython",
    "version": 3
   },
   "file_extension": ".py",
   "mimetype": "text/x-python",
   "name": "python",
   "nbconvert_exporter": "python",
   "pygments_lexer": "ipython3",
   "version": "3.9.7"
  }
 },
 "nbformat": 4,
 "nbformat_minor": 5
}
